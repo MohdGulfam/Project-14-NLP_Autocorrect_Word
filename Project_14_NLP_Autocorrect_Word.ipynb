{
  "nbformat": 4,
  "nbformat_minor": 0,
  "metadata": {
    "colab": {
      "name": "Project-14-NLP_Autocorrect_Word.ipynb",
      "provenance": []
    },
    "kernelspec": {
      "name": "python3",
      "display_name": "Python 3"
    }
  },
  "cells": [
    {
      "cell_type": "code",
      "metadata": {
        "id": "9_QDPFE5vQ_y"
      },
      "source": [
        "#Build an autocorrect feature with Python. Like our smartphone uses history to match the type words whether it’s correct or not.\r\n",
        "#So here we also need to use some words to put the functionality in our autocorrect."
      ],
      "execution_count": null,
      "outputs": []
    },
    {
      "cell_type": "code",
      "metadata": {
        "colab": {
          "base_uri": "https://localhost:8080/"
        },
        "id": "R7NsXKpUwVYw",
        "outputId": "7d02656b-5ac5-4306-cbdc-f46ffc7bc38b"
      },
      "source": [
        "#To install a library known as textdistance\r\n",
        " pip install textdistance"
      ],
      "execution_count": null,
      "outputs": [
        {
          "output_type": "stream",
          "text": [
            "Collecting textdistance\n",
            "  Downloading https://files.pythonhosted.org/packages/35/71/87133323736b9b0180f600d477507318dae0abde613a54df33bfd0248614/textdistance-4.2.0-py3-none-any.whl\n",
            "Installing collected packages: textdistance\n",
            "Successfully installed textdistance-4.2.0\n"
          ],
          "name": "stdout"
        }
      ]
    },
    {
      "cell_type": "code",
      "metadata": {
        "colab": {
          "base_uri": "https://localhost:8080/"
        },
        "id": "B_tDoW2Qv-Ms",
        "outputId": "950e2102-b670-479f-a4e9-a8f9cda10c38"
      },
      "source": [
        "#Import the libraries \r\n",
        "import pandas as pd\r\n",
        "import numpy as np\r\n",
        "import textdistance\r\n",
        "import re\r\n",
        "from collections import Counter\r\n",
        "words = []\r\n",
        "with open('/content/drive/MyDrive/project/Dataset/book.txt', 'r') as f:\r\n",
        "    file_name_data = f.read()\r\n",
        "    file_name_data=file_name_data.lower()\r\n",
        "    words = re.findall('\\w+',file_name_data)\r\n",
        "# This is our vocabulary\r\n",
        "V = set(words)\r\n",
        "print(f\"The first ten words in the text are: \\n{words[0:10]}\")\r\n",
        "print(f\"There are {len(V)} unique words in the vocabulary.\")"
      ],
      "execution_count": null,
      "outputs": [
        {
          "output_type": "stream",
          "text": [
            "The first ten words in the text are: \n",
            "['the', 'project', 'gutenberg', 'ebook', 'of', 'moby', 'dick', 'or', 'the', 'whale']\n",
            "There are 17647 unique words in the vocabulary.\n"
          ],
          "name": "stdout"
        }
      ]
    },
    {
      "cell_type": "code",
      "metadata": {
        "colab": {
          "base_uri": "https://localhost:8080/"
        },
        "id": "xQFyoa8Dv-RU",
        "outputId": "7c84ea6d-e139-4ddd-e23d-9dcc932e2cc5"
      },
      "source": [
        "#The frequency of those words, which can be easily done by using the counter function in Python\r\n",
        "word_freq_dict = {}  \r\n",
        "word_freq_dict = Counter(words)\r\n",
        "print(word_freq_dict.most_common()[0:10])"
      ],
      "execution_count": null,
      "outputs": [
        {
          "output_type": "stream",
          "text": [
            "[('the', 14703), ('of', 6742), ('and', 6517), ('a', 4799), ('to', 4707), ('in', 4238), ('that', 3081), ('it', 2534), ('his', 2530), ('i', 2120)]\n"
          ],
          "name": "stdout"
        }
      ]
    },
    {
      "cell_type": "code",
      "metadata": {
        "id": "iXUY7SUAxUmK"
      },
      "source": [
        "#The probability of occurrence of each word, this equals the relative frequencies of the words\r\n",
        "probs = {}     \r\n",
        "Total = sum(word_freq_dict.values())    \r\n",
        "for k in word_freq_dict.keys():\r\n",
        "    probs[k] = word_freq_dict[k]/Total"
      ],
      "execution_count": null,
      "outputs": []
    },
    {
      "cell_type": "code",
      "metadata": {
        "id": "Kkw-mX-Jxq99"
      },
      "source": [
        "def my_autocorrect(input_word):\r\n",
        "  input_word = input_word.lower()\r\n",
        "  if input_word in V:\r\n",
        "    return('Your word seems to be correct')\r\n",
        "  else:\r\n",
        "    similarities = [1-(textdistance.Jaccard(qval=2).distance(v,input_word)) for v in word_freq_dict.keys()]\r\n",
        "    df = pd.DataFrame.from_dict(probs, orient='index').reset_index()\r\n",
        "    df = df.rename(columns={'index':'Word', 0:'Prob'})\r\n",
        "    df['Similarity'] = similarities\r\n",
        "    output = df.sort_values(['Similarity', 'Prob'], ascending=False).head()\r\n",
        "    return(output)"
      ],
      "execution_count": null,
      "outputs": []
    },
    {
      "cell_type": "code",
      "metadata": {
        "colab": {
          "base_uri": "https://localhost:8080/",
          "height": 204
        },
        "id": "WU2vZh4wxrBP",
        "outputId": "53a71224-a40d-4d73-a287-d8aa795e286f"
      },
      "source": [
        " #let’s find the similar words by using our autocorrect function:\r\n",
        "my_autocorrect('neverteless')\r\n"
      ],
      "execution_count": null,
      "outputs": [
        {
          "output_type": "execute_result",
          "data": {
            "text/html": [
              "<div>\n",
              "<style scoped>\n",
              "    .dataframe tbody tr th:only-of-type {\n",
              "        vertical-align: middle;\n",
              "    }\n",
              "\n",
              "    .dataframe tbody tr th {\n",
              "        vertical-align: top;\n",
              "    }\n",
              "\n",
              "    .dataframe thead th {\n",
              "        text-align: right;\n",
              "    }\n",
              "</style>\n",
              "<table border=\"1\" class=\"dataframe\">\n",
              "  <thead>\n",
              "    <tr style=\"text-align: right;\">\n",
              "      <th></th>\n",
              "      <th>Word</th>\n",
              "      <th>Prob</th>\n",
              "      <th>Similarity</th>\n",
              "    </tr>\n",
              "  </thead>\n",
              "  <tbody>\n",
              "    <tr>\n",
              "      <th>2571</th>\n",
              "      <td>nevertheless</td>\n",
              "      <td>0.000225</td>\n",
              "      <td>0.750000</td>\n",
              "    </tr>\n",
              "    <tr>\n",
              "      <th>13657</th>\n",
              "      <td>boneless</td>\n",
              "      <td>0.000013</td>\n",
              "      <td>0.416667</td>\n",
              "    </tr>\n",
              "    <tr>\n",
              "      <th>12684</th>\n",
              "      <td>elevates</td>\n",
              "      <td>0.000004</td>\n",
              "      <td>0.416667</td>\n",
              "    </tr>\n",
              "    <tr>\n",
              "      <th>1105</th>\n",
              "      <td>never</td>\n",
              "      <td>0.000925</td>\n",
              "      <td>0.400000</td>\n",
              "    </tr>\n",
              "    <tr>\n",
              "      <th>7136</th>\n",
              "      <td>level</td>\n",
              "      <td>0.000108</td>\n",
              "      <td>0.400000</td>\n",
              "    </tr>\n",
              "  </tbody>\n",
              "</table>\n",
              "</div>"
            ],
            "text/plain": [
              "               Word      Prob  Similarity\n",
              "2571   nevertheless  0.000225    0.750000\n",
              "13657      boneless  0.000013    0.416667\n",
              "12684      elevates  0.000004    0.416667\n",
              "1105          never  0.000925    0.400000\n",
              "7136          level  0.000108    0.400000"
            ]
          },
          "metadata": {
            "tags": []
          },
          "execution_count": 8
        }
      ]
    },
    {
      "cell_type": "code",
      "metadata": {
        "id": "NrIfHhZzxrEb"
      },
      "source": [
        ""
      ],
      "execution_count": null,
      "outputs": []
    }
  ]
}